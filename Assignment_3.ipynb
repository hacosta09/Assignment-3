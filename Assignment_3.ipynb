{
  "nbformat": 4,
  "nbformat_minor": 0,
  "metadata": {
    "colab": {
      "provenance": [],
      "authorship_tag": "ABX9TyPhfzWDOx+Uvw9dhMHc7TV2",
      "include_colab_link": true
    },
    "kernelspec": {
      "name": "python3",
      "display_name": "Python 3"
    },
    "language_info": {
      "name": "python"
    }
  },
  "cells": [
    {
      "cell_type": "markdown",
      "metadata": {
        "id": "view-in-github",
        "colab_type": "text"
      },
      "source": [
        "<a href=\"https://colab.research.google.com/github/hacosta09/Assignment-3/blob/main/Assignment_3.ipynb\" target=\"_parent\"><img src=\"https://colab.research.google.com/assets/colab-badge.svg\" alt=\"Open In Colab\"/></a>"
      ]
    },
    {
      "cell_type": "code",
      "execution_count": 12,
      "metadata": {
        "colab": {
          "base_uri": "https://localhost:8080/",
          "height": 105
        },
        "id": "4o1O6GrK5SGo",
        "outputId": "816ccbe9-5f53-4b46-909a-ded3c5dc3e03"
      },
      "outputs": [
        {
          "output_type": "error",
          "ename": "SyntaxError",
          "evalue": "invalid syntax (<ipython-input-12-e6371048c5e7>, line 3)",
          "traceback": [
            "\u001b[0;36m  File \u001b[0;32m\"<ipython-input-12-e6371048c5e7>\"\u001b[0;36m, line \u001b[0;32m3\u001b[0m\n\u001b[0;31m    struct Node\u001b[0m\n\u001b[0m           ^\u001b[0m\n\u001b[0;31mSyntaxError\u001b[0m\u001b[0;31m:\u001b[0m invalid syntax\n"
          ]
        }
      ],
      "source": [
        "#include <iostream>\n",
        "\n",
        "struct Node\n",
        "{\n",
        "    int data;\n",
        "    Node* next;\n",
        "};\n",
        "\n",
        "\n",
        "class LinkedList {\n",
        "private:\n",
        "    Node* head; // Pointer to the first node of the list\n",
        "\n",
        "public:\n",
        "    // Constructor to initialize the head pointer to nullptr\n",
        "    LinkedList() {\n",
        "        head = nullptr;\n",
        "    }\n",
        "\n",
        "    // Function to push a new value onto the list\n",
        "    void Push(int value) {\n",
        "        // Create a new node\n",
        "        Node* newNode = new Node();\n",
        "        newNode->data = value;\n",
        "\n",
        "        // Make the new node point to the current head\n",
        "        newNode->next = head;\n",
        "\n",
        "        // Update the head to point to the new node\n",
        "        head = newNode;\n",
        "\n",
        "        std::cout << \"Pushed: \" << value << std::endl;\n",
        "    }\n",
        "\n",
        "    // Function to return and remove the top element from the list\n",
        "    int TopandPop() {\n",
        "        if (head == nullptr) {\n",
        "            std::cerr << \"List is empty, cannot pop.\" << std::endl;\n",
        "            return -1; // Return an error value\n",
        "        }\n",
        "\n",
        "        // Get the value at the top (head node)\n",
        "        int value = head->data;\n",
        "\n",
        "        // Store the current head node temporarily\n",
        "        Node* temp = head;\n",
        "\n",
        "        // Move the head pointer to the next node\n",
        "        head = head->next;\n",
        "\n",
        "        // Delete the old head node to free memory\n",
        "        delete temp;\n",
        "\n",
        "        std::cout << \"Popped: \" << value << std::endl;\n",
        "        return value;\n",
        "    }\n",
        "};\n",
        "\n",
        "int main() {\n",
        "    LinkedList list;\n",
        "\n",
        "    // Push values onto the list\n",
        "    list.Push(10);\n",
        "    list.Push(20);\n",
        "    list.Push(30);\n",
        "\n",
        "    // Pop values from the list\n",
        "    list.TopandPop(); // 30\n",
        "    list.TopandPop(); // 20\n",
        "    list.TopandPop(); // 10\n",
        "    list.TopandPop(); // Error: List is empty\n",
        "\n",
        "    return 0;\n",
        "}\n"
      ]
    }
  ]
}